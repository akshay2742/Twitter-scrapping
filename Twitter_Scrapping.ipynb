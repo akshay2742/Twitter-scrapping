{
  "nbformat": 4,
  "nbformat_minor": 0,
  "metadata": {
    "colab": {
      "provenance": []
    },
    "kernelspec": {
      "name": "python3",
      "display_name": "Python 3"
    },
    "language_info": {
      "name": "python"
    }
  },
  "cells": [
    {
      "cell_type": "markdown",
      "source": [
        "# Installing required packages (Selenium & Chromedriver)"
      ],
      "metadata": {
        "id": "s4I065h1WTCj"
      }
    },
    {
      "cell_type": "code",
      "execution_count": null,
      "metadata": {
        "id": "qmhMu0cxHgmo"
      },
      "outputs": [],
      "source": [
        "!pip install selenium"
      ]
    },
    {
      "cell_type": "code",
      "source": [
        "!apt-get update"
      ],
      "metadata": {
        "id": "sIKb5KEKM0_e"
      },
      "execution_count": null,
      "outputs": []
    },
    {
      "cell_type": "code",
      "source": [
        "!apt-get install -y chromium-browser"
      ],
      "metadata": {
        "id": "T0ScqJH8OZ8A"
      },
      "execution_count": null,
      "outputs": []
    },
    {
      "cell_type": "code",
      "source": [
        "!apt install chromium-chromedriver"
      ],
      "metadata": {
        "id": "Ks6-vqKbPqb3"
      },
      "execution_count": null,
      "outputs": []
    },
    {
      "cell_type": "markdown",
      "source": [
        "# Setting up browser & Importing important packages"
      ],
      "metadata": {
        "id": "KfovKI_nWbdN"
      }
    },
    {
      "cell_type": "code",
      "source": [
        "import numpy as np\n",
        "from selenium import webdriver"
      ],
      "metadata": {
        "id": "UZAUFCqoP5IC"
      },
      "execution_count": null,
      "outputs": []
    },
    {
      "cell_type": "code",
      "source": [
        "from selenium.webdriver.common.by import By\n",
        "from selenium.webdriver.common.keys import Keys\n",
        "from selenium.common.exceptions import NoSuchElementException\n",
        "from time import sleep\n",
        "from getpass import getpass"
      ],
      "metadata": {
        "id": "OSKvL3IIahWy"
      },
      "execution_count": null,
      "outputs": []
    },
    {
      "cell_type": "code",
      "source": [
        "options = webdriver.ChromeOptions()\n",
        "options.add_argument('--no-sandbox')\n",
        "options.add_argument('--headless')\n",
        "options.add_argument('--diable-dve-shm-uage')\n",
        "\n",
        "driver = webdriver.Chrome(executable_path='/usr/lib/chromium-browser/chromedriver',options=options)"
      ],
      "metadata": {
        "colab": {
          "base_uri": "https://localhost:8080/"
        },
        "id": "rAPvUjk1P_iz",
        "outputId": "7f7cd651-f026-45cb-ae27-11e60e744e92"
      },
      "execution_count": null,
      "outputs": [
        {
          "output_type": "stream",
          "name": "stderr",
          "text": [
            "<ipython-input-114-4abd20493726>:6: DeprecationWarning: executable_path has been deprecated, please pass in a Service object\n",
            "  driver = webdriver.Chrome(executable_path='/usr/lib/chromium-browser/chromedriver',options=options)\n"
          ]
        }
      ]
    },
    {
      "cell_type": "markdown",
      "source": [
        "# Getting to webpage and Extracting:\n",
        "### 1. Name\n",
        "### 2. Username\n",
        "### 3. Bio\n",
        "### 3. Profile Picture\n",
        "### 4. Total Likes\n",
        "### 5. Total Followers\n",
        "### 6. Total Following\n",
        "### 7. Tweets"
      ],
      "metadata": {
        "id": "G4r9JKbSam2M"
      }
    },
    {
      "cell_type": "code",
      "source": [
        "driver.get('https://twitter.com/login')  #Login page twitter"
      ],
      "metadata": {
        "id": "UI5YAlqgR9vN"
      },
      "execution_count": null,
      "outputs": []
    },
    {
      "cell_type": "markdown",
      "source": [
        "# Entering the credentials\n",
        "### 1. Email\n",
        "### 2. Username\n",
        "### 3. Password\n",
        "### 4. Phone Number"
      ],
      "metadata": {
        "id": "TfZDsWR9__e8"
      }
    },
    {
      "cell_type": "code",
      "source": [
        "email = driver.find_element(By.XPATH,'//input[@name=\"text\"]') \n",
        "\n",
        "email.send_keys('akshays274@gmail.com')\n",
        "\n",
        "email.send_keys(Keys.RETURN)"
      ],
      "metadata": {
        "id": "3mIiPnZX-UDT"
      },
      "execution_count": null,
      "outputs": []
    },
    {
      "cell_type": "code",
      "source": [
        "user = driver.find_element(By.XPATH,'//input[@name=\"text\"]')\n",
        "\n",
        "user.send_keys('akshay___sh')\n",
        "\n",
        "user.send_keys(Keys.RETURN)"
      ],
      "metadata": {
        "id": "4hlk1LZ6-bNi"
      },
      "execution_count": null,
      "outputs": []
    },
    {
      "cell_type": "code",
      "source": [
        "password = driver.find_element(By.XPATH,'//input[@name=\"password\"]')\n",
        "\n",
        "inPass = getpass()"
      ],
      "metadata": {
        "colab": {
          "base_uri": "https://localhost:8080/"
        },
        "id": "LrroJLK1-vfR",
        "outputId": "185f1311-b104-4462-8fd9-143303f154af"
      },
      "execution_count": null,
      "outputs": [
        {
          "name": "stdout",
          "output_type": "stream",
          "text": [
            "··········\n"
          ]
        }
      ]
    },
    {
      "cell_type": "code",
      "source": [
        "password.send_keys(inPass)\n",
        "\n",
        "password.send_keys(Keys.RETURN)"
      ],
      "metadata": {
        "id": "02A_iRqB_Dye"
      },
      "execution_count": null,
      "outputs": []
    },
    {
      "cell_type": "code",
      "source": [
        "try:\n",
        "  phone = driver.find_element(By.XPATH,'//input[@name=\"text\"]')\n",
        "  phone.send_keys('8445462868')\n",
        "  phone.send_keys(Keys.RETURN)\n",
        "except:\n",
        "  profile = driver.find_element(By.XPATH,'//a[@aria-label=\"Profile\"]') # Accessing the profile page\n",
        "  profile.send_keys(Keys.RETURN)"
      ],
      "metadata": {
        "id": "Q90OwMXeEw6p"
      },
      "execution_count": null,
      "outputs": []
    },
    {
      "cell_type": "markdown",
      "source": [
        "BIO (About Me)"
      ],
      "metadata": {
        "id": "XjyhEAGYFiGJ"
      }
    },
    {
      "cell_type": "code",
      "source": [
        "bio = driver.find_element(By.XPATH,'//div[@data-testid=\"UserDescription\"]/span').text\n",
        "\n",
        "bio"
      ],
      "metadata": {
        "colab": {
          "base_uri": "https://localhost:8080/",
          "height": 35
        },
        "id": "Rqt5e_5JkjvP",
        "outputId": "73d9849c-c442-4f98-a2b3-c30b61fda240"
      },
      "execution_count": null,
      "outputs": [
        {
          "output_type": "execute_result",
          "data": {
            "text/plain": [
              "'! Living The Reality !'"
            ],
            "application/vnd.google.colaboratory.intrinsic+json": {
              "type": "string"
            }
          },
          "metadata": {},
          "execution_count": 121
        }
      ]
    },
    {
      "cell_type": "markdown",
      "source": [
        "User Name"
      ],
      "metadata": {
        "id": "Zcg2VJX_FleO"
      }
    },
    {
      "cell_type": "code",
      "source": [
        "username = driver.find_element(By.XPATH,'//div[@data-testid=\"UserName\"]/div/div/div[2]//span').text\n",
        "\n",
        "username"
      ],
      "metadata": {
        "colab": {
          "base_uri": "https://localhost:8080/",
          "height": 35
        },
        "id": "3yNhkiu8Ww19",
        "outputId": "09002921-d46c-4ddb-8eca-7c7ab1a66027"
      },
      "execution_count": null,
      "outputs": [
        {
          "output_type": "execute_result",
          "data": {
            "text/plain": [
              "'@akshay___sh'"
            ],
            "application/vnd.google.colaboratory.intrinsic+json": {
              "type": "string"
            }
          },
          "metadata": {},
          "execution_count": 122
        }
      ]
    },
    {
      "cell_type": "markdown",
      "source": [
        "Name"
      ],
      "metadata": {
        "id": "QpsKN7IqFnxY"
      }
    },
    {
      "cell_type": "code",
      "source": [
        "name = driver.find_element(By.XPATH,'//div[@data-testid=\"UserName\"]//span/span').text\n",
        "\n",
        "name"
      ],
      "metadata": {
        "colab": {
          "base_uri": "https://localhost:8080/",
          "height": 35
        },
        "id": "RvbrdT-XJ_F2",
        "outputId": "ec33d752-d9e4-4dfd-bc7d-70fdfd3e0df3"
      },
      "execution_count": null,
      "outputs": [
        {
          "output_type": "execute_result",
          "data": {
            "text/plain": [
              "'Akshay Sharmaᅠᅠᅠᅠᅠᅠᅠᅠᅠᅠᅠᅠᅠᅠᅠᅠᅠᅠᅠᅠᅠᅠᅠᅠᅠᅠᅠᅠᅠᅠᅠᅠᅠᅠᅠ'"
            ],
            "application/vnd.google.colaboratory.intrinsic+json": {
              "type": "string"
            }
          },
          "metadata": {},
          "execution_count": 123
        }
      ]
    },
    {
      "cell_type": "markdown",
      "source": [
        "Profile Picture\n"
      ],
      "metadata": {
        "id": "fWfTqrJwFptk"
      }
    },
    {
      "cell_type": "code",
      "source": [
        "avatar = driver.find_element(By.XPATH,'//div[@aria-label=\"Opens profile photo\"]/img').get_attribute('src')\n",
        "\n",
        "from IPython import display\n",
        "\n",
        "display.Image(avatar)"
      ],
      "metadata": {
        "colab": {
          "base_uri": "https://localhost:8080/",
          "height": 217
        },
        "id": "HcKX5Hf8peNw",
        "outputId": "65be849f-0082-47d5-b7c5-09e9c55a0cee"
      },
      "execution_count": null,
      "outputs": [
        {
          "output_type": "execute_result",
          "data": {
            "image/jpeg": "[encoded data removed]",
            "text/plain": [
              "<IPython.core.display.Image object>"
            ]
          },
          "metadata": {},
          "execution_count": 124
        }
      ]
    },
    {
      "cell_type": "markdown",
      "source": [
        "Date of Birth\n",
        "\n"
      ],
      "metadata": {
        "id": "PIRLyJFtFxUB"
      }
    },
    {
      "cell_type": "code",
      "source": [
        "dob = driver.find_element(By.XPATH,'//div[@data-testid=\"UserProfileHeader_Items\"]/span[2]').text\n",
        "\n",
        "dob\n"
      ],
      "metadata": {
        "colab": {
          "base_uri": "https://localhost:8080/",
          "height": 35
        },
        "id": "o7XQ7Ii_MWl9",
        "outputId": "9af9f71b-9962-4e5d-bf84-00be9a48c0f5"
      },
      "execution_count": null,
      "outputs": [
        {
          "output_type": "execute_result",
          "data": {
            "text/plain": [
              "'Born May 5, 2001'"
            ],
            "application/vnd.google.colaboratory.intrinsic+json": {
              "type": "string"
            }
          },
          "metadata": {},
          "execution_count": 125
        }
      ]
    },
    {
      "cell_type": "markdown",
      "source": [
        "Place"
      ],
      "metadata": {
        "id": "C3a2AI_WJHI2"
      }
    },
    {
      "cell_type": "code",
      "source": [
        "place = driver.find_element(By.XPATH,'//div[@data-testid=\"UserProfileHeader_Items\"]/span[1]').text\n",
        "\n",
        "place"
      ],
      "metadata": {
        "colab": {
          "base_uri": "https://localhost:8080/",
          "height": 35
        },
        "id": "6VYsBpDrJBBn",
        "outputId": "36af6b26-d228-4420-cf99-4ead28b550a0"
      },
      "execution_count": null,
      "outputs": [
        {
          "output_type": "execute_result",
          "data": {
            "text/plain": [
              "'Bareilly, U.P'"
            ],
            "application/vnd.google.colaboratory.intrinsic+json": {
              "type": "string"
            }
          },
          "metadata": {},
          "execution_count": 126
        }
      ]
    },
    {
      "cell_type": "markdown",
      "source": [
        " Total Media Uploads"
      ],
      "metadata": {
        "id": "73fgX4RtF48i"
      }
    },
    {
      "cell_type": "code",
      "source": [
        "driver.find_element(By.LINK_TEXT,'Media').click()\n",
        "\n",
        "mediaCount = driver.find_element(By.XPATH,'//div[@class=\"css-1dbjc4n r-1habvwh\"]/div').text\n",
        "\n",
        "mediaCount"
      ],
      "metadata": {
        "colab": {
          "base_uri": "https://localhost:8080/",
          "height": 35
        },
        "id": "Nm_BUnKdbo3U",
        "outputId": "6d10adfc-2049-4b72-ac9e-059c8b8efb54"
      },
      "execution_count": null,
      "outputs": [
        {
          "output_type": "execute_result",
          "data": {
            "text/plain": [
              "'0 Photos & videos'"
            ],
            "application/vnd.google.colaboratory.intrinsic+json": {
              "type": "string"
            }
          },
          "metadata": {},
          "execution_count": 127
        }
      ]
    },
    {
      "cell_type": "code",
      "source": [
        "driver.find_element(By.LINK_TEXT,'Likes').click()\n",
        "\n",
        "likesCount = driver.find_element(By.XPATH,'//div[@class=\"css-1dbjc4n r-1habvwh\"]/div').text\n",
        "\n",
        "likesCount"
      ],
      "metadata": {
        "colab": {
          "base_uri": "https://localhost:8080/",
          "height": 35
        },
        "id": "jnWX5m0xGEQm",
        "outputId": "b5808670-a8be-4170-92d1-1e9f8857c61d"
      },
      "execution_count": null,
      "outputs": [
        {
          "output_type": "execute_result",
          "data": {
            "text/plain": [
              "'45 Likes'"
            ],
            "application/vnd.google.colaboratory.intrinsic+json": {
              "type": "string"
            }
          },
          "metadata": {},
          "execution_count": 128
        }
      ]
    },
    {
      "cell_type": "code",
      "source": [
        "driver.find_element(By.LINK_TEXT,'Tweets').click()\n",
        "\n",
        "tweetsCount = driver.find_element(By.XPATH,'//div[@class=\"css-1dbjc4n r-1habvwh\"]/div').text\n",
        "\n",
        "tweetsCount"
      ],
      "metadata": {
        "colab": {
          "base_uri": "https://localhost:8080/",
          "height": 35
        },
        "id": "YNpeTGHHH280",
        "outputId": "f87b0e7f-76e1-4016-d09e-13f427dc4495"
      },
      "execution_count": null,
      "outputs": [
        {
          "output_type": "execute_result",
          "data": {
            "text/plain": [
              "'15 Tweets'"
            ],
            "application/vnd.google.colaboratory.intrinsic+json": {
              "type": "string"
            }
          },
          "metadata": {},
          "execution_count": 129
        }
      ]
    },
    {
      "cell_type": "markdown",
      "source": [
        "Total Following"
      ],
      "metadata": {
        "id": "iXGC9HAcHHib"
      }
    },
    {
      "cell_type": "code",
      "source": [
        "followingCount = driver.find_element(By.XPATH,'//a[@href=\"/akshay___sh/following\"]/span/span').text\n",
        "\n",
        "followingCount"
      ],
      "metadata": {
        "colab": {
          "base_uri": "https://localhost:8080/",
          "height": 35
        },
        "id": "yPEGN3EJGd3G",
        "outputId": "e5e85a14-9072-4447-cae8-bafabd0e6507"
      },
      "execution_count": null,
      "outputs": [
        {
          "output_type": "execute_result",
          "data": {
            "text/plain": [
              "'155'"
            ],
            "application/vnd.google.colaboratory.intrinsic+json": {
              "type": "string"
            }
          },
          "metadata": {},
          "execution_count": 130
        }
      ]
    },
    {
      "cell_type": "markdown",
      "source": [
        "Total Followers"
      ],
      "metadata": {
        "id": "m-tfwchpHe7l"
      }
    },
    {
      "cell_type": "code",
      "source": [
        "followerCount = driver.find_element(By.XPATH,'//a[@href=\"/akshay___sh/followers\"]/span/span').text\n",
        "\n",
        "followerCount"
      ],
      "metadata": {
        "colab": {
          "base_uri": "https://localhost:8080/",
          "height": 35
        },
        "id": "5O0zTTFAHM5f",
        "outputId": "42d44da1-eb79-4792-f5cb-dbdc41304d57"
      },
      "execution_count": null,
      "outputs": [
        {
          "output_type": "execute_result",
          "data": {
            "text/plain": [
              "'14'"
            ],
            "application/vnd.google.colaboratory.intrinsic+json": {
              "type": "string"
            }
          },
          "metadata": {},
          "execution_count": 131
        }
      ]
    },
    {
      "cell_type": "markdown",
      "source": [
        "Tweets"
      ],
      "metadata": {
        "id": "h6RuIO8MHx3k"
      }
    },
    {
      "cell_type": "code",
      "source": [
        "driver.find_element(By.LINK_TEXT,'Tweets').click()\n",
        "\n",
        "tweetCards = driver.find_elements(By.XPATH,'//div[@data-testid=\"tweetText\"]')\n",
        "\n",
        "tweets = dict({})\n",
        "\n",
        "count=1\n",
        "\n",
        "for i in tweetCards:\n",
        "  tweets.update({count:i.text})\n",
        "  count = count + 1\n",
        "\n",
        "print(tweets)"
      ],
      "metadata": {
        "colab": {
          "base_uri": "https://localhost:8080/"
        },
        "id": "BqcMKfS2aX-5",
        "outputId": "bb30c320-1071-48d3-d4a7-11513b0bf499"
      },
      "execution_count": null,
      "outputs": [
        {
          "output_type": "stream",
          "name": "stdout",
          "text": [
            "{1: 'Just got a text from a person who got a direct internship offer from Microsoft through engage, asking me which language to choose and how to study DSA.\\n\\nWhat the hell seriously!', 2: \"Just wondering, we live in a society where a person with a great skill set is less valuable than who is pursuing http://b.tech, does a degree define a person's abilities?\", 3: \"Hola Hackers!!\\nRegister now at: http://hackcbs.tech (in bio)\\nMark your calendar for 29th - 31st October, 2021 for India's biggest student run hackathon. \\nRevolutionize the digital Era with our digital hackathon!\\n#hackCBS #mlh #elastic #hackathon #du #sscbs  #kronos #python\", 4: \"What is that one aspect of life  which may either be wonderful or cumbersome, always teaches us something? Any guesses?\\nIt's EXPERIENCE !!\\nTo give you some better insights of our mega event, we are launching the most awaited hackCBS diaries. So gear up fellas because it's here\"}\n"
          ]
        }
      ]
    },
    {
      "cell_type": "code",
      "source": [
        "data = {'Name':name,\n",
        "        'UserName':username,\n",
        "        'Bio':bio,\n",
        "        'Date of Birth':dob,\n",
        "        'Place':place,\n",
        "        'Profile Photo':avatar,\n",
        "        'Total Media Uploads':mediaCount,\n",
        "        'Total Likes':likesCount,\n",
        "        'Total Tweets':tweetsCount,\n",
        "        'Total Following':followingCount,\n",
        "        'Total Followers':followerCount,\n",
        "        'Tweets':tweets}"
      ],
      "metadata": {
        "id": "UOT_W8xtaE9L"
      },
      "execution_count": null,
      "outputs": []
    },
    {
      "cell_type": "code",
      "source": [
        "import pandas as pd\n",
        "\n",
        "temp = pd.DataFrame.from_dict(data,orient='index')\n",
        "\n",
        "temp.to_csv('twitter.csv', index = True, encoding='utf-8')"
      ],
      "metadata": {
        "id": "doBfoD92KD9f"
      },
      "execution_count": null,
      "outputs": []
    },
    {
      "cell_type": "code",
      "source": [
        "twitterData = pd.read_csv('/content/twitter.csv')\n",
        "twitterData"
      ],
      "metadata": {
        "colab": {
          "base_uri": "https://localhost:8080/",
          "height": 426
        },
        "id": "u2yEP-L4QmUm",
        "outputId": "f7809bd4-9c92-4180-9337-38ab8c56a5c5"
      },
      "execution_count": null,
      "outputs": [
        {
          "output_type": "execute_result",
          "data": {
            "text/plain": [
              "             Unnamed: 0                                                  0\n",
              "0                  Name   Akshay Sharmaᅠᅠᅠᅠᅠᅠᅠᅠᅠᅠᅠᅠᅠᅠᅠᅠᅠᅠᅠᅠᅠᅠᅠᅠᅠᅠᅠᅠᅠᅠᅠᅠᅠᅠᅠ\n",
              "1              UserName                                       @akshay___sh\n",
              "2                   Bio                             ! Living The Reality !\n",
              "3         Date of Birth                                   Born May 5, 2001\n",
              "4                 Place                                      Bareilly, U.P\n",
              "5         Profile Photo  https://pbs.twimg.com/profile_images/143685375...\n",
              "6   Total Media Uploads                                  0 Photos & videos\n",
              "7           Total Likes                                           45 Likes\n",
              "8          Total Tweets                                          15 Tweets\n",
              "9       Total Following                                                155\n",
              "10      Total Followers                                                 14\n",
              "11               Tweets  {1: 'Just got a text from a person who got a d..."
            ],
            "text/html": [
              "\n",
              "  <div id=\"df-8a620783-767a-43b2-b2a6-6c8f06b2e01e\">\n",
              "    <div class=\"colab-df-container\">\n",
              "      <div>\n",
              "<style scoped>\n",
              "    .dataframe tbody tr th:only-of-type {\n",
              "        vertical-align: middle;\n",
              "    }\n",
              "\n",
              "    .dataframe tbody tr th {\n",
              "        vertical-align: top;\n",
              "    }\n",
              "\n",
              "    .dataframe thead th {\n",
              "        text-align: right;\n",
              "    }\n",
              "</style>\n",
              "<table border=\"1\" class=\"dataframe\">\n",
              "  <thead>\n",
              "    <tr style=\"text-align: right;\">\n",
              "      <th></th>\n",
              "      <th>Unnamed: 0</th>\n",
              "      <th>0</th>\n",
              "    </tr>\n",
              "  </thead>\n",
              "  <tbody>\n",
              "    <tr>\n",
              "      <th>0</th>\n",
              "      <td>Name</td>\n",
              "      <td>Akshay Sharmaᅠᅠᅠᅠᅠᅠᅠᅠᅠᅠᅠᅠᅠᅠᅠᅠᅠᅠᅠᅠᅠᅠᅠᅠᅠᅠᅠᅠᅠᅠᅠᅠᅠᅠᅠ</td>\n",
              "    </tr>\n",
              "    <tr>\n",
              "      <th>1</th>\n",
              "      <td>UserName</td>\n",
              "      <td>@akshay___sh</td>\n",
              "    </tr>\n",
              "    <tr>\n",
              "      <th>2</th>\n",
              "      <td>Bio</td>\n",
              "      <td>! Living The Reality !</td>\n",
              "    </tr>\n",
              "    <tr>\n",
              "      <th>3</th>\n",
              "      <td>Date of Birth</td>\n",
              "      <td>Born May 5, 2001</td>\n",
              "    </tr>\n",
              "    <tr>\n",
              "      <th>4</th>\n",
              "      <td>Place</td>\n",
              "      <td>Bareilly, U.P</td>\n",
              "    </tr>\n",
              "    <tr>\n",
              "      <th>5</th>\n",
              "      <td>Profile Photo</td>\n",
              "      <td>https://pbs.twimg.com/profile_images/143685375...</td>\n",
              "    </tr>\n",
              "    <tr>\n",
              "      <th>6</th>\n",
              "      <td>Total Media Uploads</td>\n",
              "      <td>0 Photos &amp; videos</td>\n",
              "    </tr>\n",
              "    <tr>\n",
              "      <th>7</th>\n",
              "      <td>Total Likes</td>\n",
              "      <td>45 Likes</td>\n",
              "    </tr>\n",
              "    <tr>\n",
              "      <th>8</th>\n",
              "      <td>Total Tweets</td>\n",
              "      <td>15 Tweets</td>\n",
              "    </tr>\n",
              "    <tr>\n",
              "      <th>9</th>\n",
              "      <td>Total Following</td>\n",
              "      <td>155</td>\n",
              "    </tr>\n",
              "    <tr>\n",
              "      <th>10</th>\n",
              "      <td>Total Followers</td>\n",
              "      <td>14</td>\n",
              "    </tr>\n",
              "    <tr>\n",
              "      <th>11</th>\n",
              "      <td>Tweets</td>\n",
              "      <td>{1: 'Just got a text from a person who got a d...</td>\n",
              "    </tr>\n",
              "  </tbody>\n",
              "</table>\n",
              "</div>\n",
              "      <button class=\"colab-df-convert\" onclick=\"convertToInteractive('df-8a620783-767a-43b2-b2a6-6c8f06b2e01e')\"\n",
              "              title=\"Convert this dataframe to an interactive table.\"\n",
              "              style=\"display:none;\">\n",
              "        \n",
              "  <svg xmlns=\"http://www.w3.org/2000/svg\" height=\"24px\"viewBox=\"0 0 24 24\"\n",
              "       width=\"24px\">\n",
              "    <path d=\"M0 0h24v24H0V0z\" fill=\"none\"/>\n",
              "    <path d=\"M18.56 5.44l.94 2.06.94-2.06 2.06-.94-2.06-.94-.94-2.06-.94 2.06-2.06.94zm-11 1L8.5 8.5l.94-2.06 2.06-.94-2.06-.94L8.5 2.5l-.94 2.06-2.06.94zm10 10l.94 2.06.94-2.06 2.06-.94-2.06-.94-.94-2.06-.94 2.06-2.06.94z\"/><path d=\"M17.41 7.96l-1.37-1.37c-.4-.4-.92-.59-1.43-.59-.52 0-1.04.2-1.43.59L10.3 9.45l-7.72 7.72c-.78.78-.78 2.05 0 2.83L4 21.41c.39.39.9.59 1.41.59.51 0 1.02-.2 1.41-.59l7.78-7.78 2.81-2.81c.8-.78.8-2.07 0-2.86zM5.41 20L4 18.59l7.72-7.72 1.47 1.35L5.41 20z\"/>\n",
              "  </svg>\n",
              "      </button>\n",
              "      \n",
              "  <style>\n",
              "    .colab-df-container {\n",
              "      display:flex;\n",
              "      flex-wrap:wrap;\n",
              "      gap: 12px;\n",
              "    }\n",
              "\n",
              "    .colab-df-convert {\n",
              "      background-color: #E8F0FE;\n",
              "      border: none;\n",
              "      border-radius: 50%;\n",
              "      cursor: pointer;\n",
              "      display: none;\n",
              "      fill: #1967D2;\n",
              "      height: 32px;\n",
              "      padding: 0 0 0 0;\n",
              "      width: 32px;\n",
              "    }\n",
              "\n",
              "    .colab-df-convert:hover {\n",
              "      background-color: #E2EBFA;\n",
              "      box-shadow: 0px 1px 2px rgba(60, 64, 67, 0.3), 0px 1px 3px 1px rgba(60, 64, 67, 0.15);\n",
              "      fill: #174EA6;\n",
              "    }\n",
              "\n",
              "    [theme=dark] .colab-df-convert {\n",
              "      background-color: #3B4455;\n",
              "      fill: #D2E3FC;\n",
              "    }\n",
              "\n",
              "    [theme=dark] .colab-df-convert:hover {\n",
              "      background-color: #434B5C;\n",
              "      box-shadow: 0px 1px 3px 1px rgba(0, 0, 0, 0.15);\n",
              "      filter: drop-shadow(0px 1px 2px rgba(0, 0, 0, 0.3));\n",
              "      fill: #FFFFFF;\n",
              "    }\n",
              "  </style>\n",
              "\n",
              "      <script>\n",
              "        const buttonEl =\n",
              "          document.querySelector('#df-8a620783-767a-43b2-b2a6-6c8f06b2e01e button.colab-df-convert');\n",
              "        buttonEl.style.display =\n",
              "          google.colab.kernel.accessAllowed ? 'block' : 'none';\n",
              "\n",
              "        async function convertToInteractive(key) {\n",
              "          const element = document.querySelector('#df-8a620783-767a-43b2-b2a6-6c8f06b2e01e');\n",
              "          const dataTable =\n",
              "            await google.colab.kernel.invokeFunction('convertToInteractive',\n",
              "                                                     [key], {});\n",
              "          if (!dataTable) return;\n",
              "\n",
              "          const docLinkHtml = 'Like what you see? Visit the ' +\n",
              "            '<a target=\"_blank\" href=https://colab.research.google.com/notebooks/data_table.ipynb>data table notebook</a>'\n",
              "            + ' to learn more about interactive tables.';\n",
              "          element.innerHTML = '';\n",
              "          dataTable['output_type'] = 'display_data';\n",
              "          await google.colab.output.renderOutput(dataTable, element);\n",
              "          const docLink = document.createElement('div');\n",
              "          docLink.innerHTML = docLinkHtml;\n",
              "          element.appendChild(docLink);\n",
              "        }\n",
              "      </script>\n",
              "    </div>\n",
              "  </div>\n",
              "  "
            ]
          },
          "metadata": {},
          "execution_count": 135
        }
      ]
    }
  ]
}